{
 "cells": [
  {
   "cell_type": "code",
   "execution_count": 1,
   "metadata": {},
   "outputs": [],
   "source": [
    "import torch\n",
    "import torch.nn as nn\n",
    "from src.utils import analyze_predictions\n",
    "from src.preprocess import preprocess\n",
    "from src.train import trainNN\n",
    "from sklearn.model_selection import train_test_split\n",
    "import pandas as pd\n",
    "import numpy as np\n",
    "import matplotlib.pyplot as plt"
   ]
  },
  {
   "cell_type": "code",
   "execution_count": 9,
   "metadata": {},
   "outputs": [
    {
     "data": {
      "text/plain": [
       "(label\n",
       " 1.0    0.597455\n",
       " 2.0    0.334319\n",
       " 0.0    0.068226\n",
       " Name: proportion, dtype: float64,\n",
       " label\n",
       " 1.0    0.597360\n",
       " 2.0    0.334433\n",
       " 0.0    0.068207\n",
       " Name: proportion, dtype: float64,\n",
       " label\n",
       " 1.0    0.597688\n",
       " 2.0    0.334067\n",
       " 0.0    0.068244\n",
       " Name: proportion, dtype: float64)"
      ]
     },
     "execution_count": 9,
     "metadata": {},
     "output_type": "execute_result"
    }
   ],
   "source": [
    "df = pd.read_csv('data/xyz_dataset.csv')\n",
    "df_train, df_test = train_test_split(df, test_size=0.2, random_state=42, stratify=df['label'])\n",
    "df_valid, df_test = train_test_split(df_test, test_size=0.5, random_state=42, stratify=df_test['label'])\n",
    "df_train[\"label\"].value_counts(normalize=True), df_test[\"label\"].value_counts(\n",
    "    normalize=True\n",
    "), df_valid[\"label\"].value_counts(normalize=True)"
   ]
  },
  {
   "cell_type": "code",
   "execution_count": 10,
   "metadata": {},
   "outputs": [
    {
     "name": "stdout",
     "output_type": "stream",
     "text": [
      "Epoch [1/10], Loss: 1.6309, Accuracy: 87.70%\n",
      "Test Loss: 0.0656, Test Accuracy: 98.13%\n",
      "Epoch [2/10], Loss: 0.0407, Accuracy: 98.67%\n",
      "Test Loss: 0.0271, Test Accuracy: 99.17%\n",
      "Epoch [3/10], Loss: 0.0195, Accuracy: 99.43%\n",
      "Test Loss: 0.0160, Test Accuracy: 99.34%\n",
      "Epoch [4/10], Loss: 0.0133, Accuracy: 99.64%\n",
      "Test Loss: 0.0149, Test Accuracy: 99.45%\n",
      "Epoch [5/10], Loss: 0.0089, Accuracy: 99.77%\n",
      "Test Loss: 0.0131, Test Accuracy: 99.50%\n",
      "Epoch [6/10], Loss: 0.0071, Accuracy: 99.82%\n",
      "Test Loss: 0.0117, Test Accuracy: 99.67%\n",
      "Epoch [7/10], Loss: 0.0053, Accuracy: 99.91%\n",
      "Test Loss: 0.0129, Test Accuracy: 99.50%\n",
      "Epoch [8/10], Loss: 0.0041, Accuracy: 99.94%\n",
      "Test Loss: 0.0249, Test Accuracy: 99.72%\n",
      "Epoch [9/10], Loss: 0.0033, Accuracy: 99.94%\n",
      "Test Loss: 0.0129, Test Accuracy: 99.67%\n",
      "Epoch [10/10], Loss: 0.0025, Accuracy: 99.96%\n",
      "Test Loss: 0.0111, Test Accuracy: 99.78%\n"
     ]
    }
   ],
   "source": [
    "train_loader = preprocess(df_train, batch_size=256)\n",
    "valid_loader = preprocess(df_valid, batch_size=256)\n",
    "test_loader = preprocess(df_test, batch_size=256)\n",
    "\n",
    "model = nn.Sequential(\n",
    "    nn.Conv2d(1, 32, kernel_size=3),\n",
    "    nn.ReLU(),\n",
    "    nn.MaxPool2d(kernel_size=2),\n",
    "    nn.Conv2d(32, 32, kernel_size=3),\n",
    "    nn.ReLU(),\n",
    "    nn.MaxPool2d(kernel_size=2),\n",
    "    nn.Flatten(),\n",
    "    nn.Linear(32 * 5 * 5, 128),\n",
    "    nn.ReLU(),\n",
    "    nn.Linear(128, 3),\n",
    ")\n",
    "\n",
    "device = torch.device(\"cuda\" if torch.cuda.is_available() else \"cpu\")\n",
    "model.to(device)\n",
    "criterion = nn.CrossEntropyLoss()\n",
    "optimizer = torch.optim.Adam(model.parameters(), lr=0.001)\n",
    "num_epochs = 10\n",
    "model, train_loss, train_acc, test_loss, test_acc = trainNN(\n",
    "    model, train_loader, valid_loader, criterion, optimizer, num_epochs, device, log_train=True, log_test=True\n",
    ")"
   ]
  },
  {
   "cell_type": "code",
   "execution_count": 11,
   "metadata": {},
   "outputs": [
    {
     "name": "stdout",
     "output_type": "stream",
     "text": [
      "              precision    recall  f1-score   support\n",
      "\n",
      "           X      0.976     0.992     0.984       122\n",
      "           Y      0.999     0.998     0.999      1087\n",
      "           Z      0.997     0.995     0.996       609\n",
      "\n",
      "    accuracy                          0.997      1818\n",
      "   macro avg      0.991     0.995     0.993      1818\n",
      "weighted avg      0.997     0.997     0.997      1818\n",
      "\n"
     ]
    },
    {
     "data": {
      "image/png": "[encoded data removed]",
      "text/plain": [
       "<Figure size 1500x1500 with 6 Axes>"
      ]
     },
     "metadata": {},
     "output_type": "display_data"
    }
   ],
   "source": [
    "analyze_predictions(model, test_loader, device)"
   ]
  },
  {
   "cell_type": "code",
   "execution_count": 18,
   "metadata": {},
   "outputs": [],
   "source": [
    "# Save the model\n",
    "torch.save(model, \"models/model.pth\")"
   ]
  },
  {
   "cell_type": "markdown",
   "metadata": {},
   "source": [
    "CNN model achieved almost 99% precision, recall and F1 score on the test set. Furthermore at least one of the wrongly misclassified images is wrongly labeled due to human error. The model performs worst on class 'X' which is expected as it has the least number of samples, however it is still good performance with 98% f1 score. There is no point tuning parameters, however I could reduce number of epochs or try to minimize the number of layers."
   ]
  },
  {
   "cell_type": "code",
   "execution_count": 13,
   "metadata": {},
   "outputs": [
    {
     "name": "stdout",
     "output_type": "stream",
     "text": [
      "Epoch [1/10], Loss: 5.1272, Accuracy: 92.75%\n",
      "Test Loss: 0.9920, Test Accuracy: 98.35%\n",
      "Epoch [2/10], Loss: 0.3276, Accuracy: 98.51%\n",
      "Test Loss: 0.3144, Test Accuracy: 97.85%\n",
      "Epoch [3/10], Loss: 0.1306, Accuracy: 99.19%\n",
      "Test Loss: 0.1628, Test Accuracy: 98.35%\n",
      "Epoch [4/10], Loss: 0.0686, Accuracy: 99.37%\n",
      "Test Loss: 0.1604, Test Accuracy: 98.57%\n",
      "Epoch [5/10], Loss: 0.0517, Accuracy: 99.44%\n",
      "Test Loss: 0.0935, Test Accuracy: 99.45%\n",
      "Epoch [6/10], Loss: 0.0334, Accuracy: 99.64%\n",
      "Test Loss: 0.1118, Test Accuracy: 99.12%\n",
      "Epoch [7/10], Loss: 0.0176, Accuracy: 99.69%\n",
      "Test Loss: 0.1036, Test Accuracy: 99.45%\n",
      "Epoch [8/10], Loss: 0.0183, Accuracy: 99.78%\n",
      "Test Loss: 0.2236, Test Accuracy: 99.39%\n",
      "Epoch [9/10], Loss: 0.0207, Accuracy: 99.70%\n",
      "Test Loss: 0.1567, Test Accuracy: 99.39%\n",
      "Epoch [10/10], Loss: 0.0099, Accuracy: 99.86%\n",
      "Test Loss: 0.0990, Test Accuracy: 99.39%\n"
     ]
    }
   ],
   "source": [
    "model_mini = nn.Sequential(\n",
    "    nn.Conv2d(1, 32, kernel_size=3),\n",
    "    nn.ReLU(),\n",
    "    nn.MaxPool2d(kernel_size=2),\n",
    "    nn.Flatten(),\n",
    "    nn.Linear(32 * 13 * 13, 3),\n",
    ")\n",
    "\n",
    "model_mini.to(device)\n",
    "num_epochs = 10\n",
    "optimizer = torch.optim.Adam(model_mini.parameters(), lr=0.001)\n",
    "model_mini, train_loss, train_acc, test_loss, test_acc = trainNN(\n",
    "    model_mini, train_loader, valid_loader, criterion, optimizer, num_epochs, device, log_train=True, log_test=True\n",
    ")"
   ]
  },
  {
   "cell_type": "code",
   "execution_count": 15,
   "metadata": {},
   "outputs": [
    {
     "name": "stdout",
     "output_type": "stream",
     "text": [
      "              precision    recall  f1-score   support\n",
      "\n",
      "           X      0.976     0.984     0.980       123\n",
      "           Y      0.998     0.997     0.998      1087\n",
      "           Z      0.997     0.997     0.997       608\n",
      "\n",
      "    accuracy                          0.996      1818\n",
      "   macro avg      0.990     0.993     0.991      1818\n",
      "weighted avg      0.996     0.996     0.996      1818\n",
      "\n"
     ]
    },
    {
     "data": {
      "image/png": "[encoded data removed]",
      "text/plain": [
       "<Figure size 1500x1500 with 7 Axes>"
      ]
     },
     "metadata": {},
     "output_type": "display_data"
    }
   ],
   "source": [
    "analyze_predictions(model_mini, test_loader, device)"
   ]
  },
  {
   "cell_type": "code",
   "execution_count": 19,
   "metadata": {},
   "outputs": [],
   "source": [
    "torch.save(model_mini, 'models/model_mini.pth')"
   ]
  },
  {
   "cell_type": "code",
   "execution_count": 17,
   "metadata": {},
   "outputs": [],
   "source": [
    "# save train, valid, test data for reproduction\n",
    "df_train.to_csv('data/train.csv', index=False)\n",
    "df_valid.to_csv('data/valid.csv', index=False)\n",
    "df_test.to_csv('data/test.csv', index=False)"
   ]
  },
  {
   "cell_type": "markdown",
   "metadata": {},
   "source": [
    "After reducing network to one linear layer and 1 convolutional layer, the model predicted one more sample wrong. Some of the wrongly missclassified samples repeat"
   ]
  }
 ],
 "metadata": {
  "kernelspec": {
   "display_name": "Python 3",
   "language": "python",
   "name": "python3"
  },
  "language_info": {
   "codemirror_mode": {
    "name": "ipython",
    "version": 3
   },
   "file_extension": ".py",
   "mimetype": "text/x-python",
   "name": "python",
   "nbconvert_exporter": "python",
   "pygments_lexer": "ipython3",
   "version": "3.10.16"
  }
 },
 "nbformat": 4,
 "nbformat_minor": 2
}
