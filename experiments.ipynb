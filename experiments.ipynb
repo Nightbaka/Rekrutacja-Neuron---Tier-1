{
 "cells": [
  {
   "cell_type": "code",
   "execution_count": 1,
   "metadata": {},
   "outputs": [],
   "source": [
    "import torch\n",
    "import torch.nn as nn\n",
    "from src.utils import plot_images\n",
    "from src.preprocess import preprocess\n",
    "from src.train import trainNN, evaluate_model\n",
    "from sklearn.metrics import classification_report\n",
    "from sklearn.model_selection import train_test_split\n",
    "import pandas as pd"
   ]
  },
  {
   "cell_type": "code",
   "execution_count": 6,
   "metadata": {},
   "outputs": [
    {
     "data": {
      "text/plain": [
       "(label\n",
       " 1.0    0.597455\n",
       " 2.0    0.334319\n",
       " 0.0    0.068226\n",
       " Name: proportion, dtype: float64,\n",
       " label\n",
       " 1.0    0.597360\n",
       " 2.0    0.334433\n",
       " 0.0    0.068207\n",
       " Name: proportion, dtype: float64,\n",
       " label\n",
       " 1.0    0.597688\n",
       " 2.0    0.334067\n",
       " 0.0    0.068244\n",
       " Name: proportion, dtype: float64)"
      ]
     },
     "execution_count": 6,
     "metadata": {},
     "output_type": "execute_result"
    }
   ],
   "source": [
    "df = pd.read_csv('data/xyz_dataset.csv')\n",
    "df_train, df_test = train_test_split(df, test_size=0.2, random_state=42, stratify=df['label'])\n",
    "df_valid, df_test = train_test_split(df_test, test_size=0.5, random_state=42, stratify=df_test['label'])\n",
    "df_train[\"label\"].value_counts(normalize=True), df_test[\"label\"].value_counts(\n",
    "    normalize=True\n",
    "), df_valid[\"label\"].value_counts(normalize=True)"
   ]
  },
  {
   "cell_type": "code",
   "execution_count": 7,
   "metadata": {},
   "outputs": [
    {
     "name": "stdout",
     "output_type": "stream",
     "text": [
      "Epoch [1/10], Loss: 0.6236, Accuracy: 92.43%\n",
      "Test Loss: 0.0611, Test Accuracy: 99.01%\n",
      "Epoch [2/10], Loss: 0.0166, Accuracy: 99.48%\n",
      "Test Loss: 0.0188, Test Accuracy: 99.28%\n",
      "Epoch [3/10], Loss: 0.0081, Accuracy: 99.79%\n",
      "Test Loss: 0.0348, Test Accuracy: 99.67%\n",
      "Epoch [4/10], Loss: 0.0048, Accuracy: 99.88%\n",
      "Test Loss: 0.0184, Test Accuracy: 99.56%\n",
      "Epoch [5/10], Loss: 0.0023, Accuracy: 99.97%\n",
      "Test Loss: 0.0147, Test Accuracy: 99.56%\n",
      "Epoch [6/10], Loss: 0.0015, Accuracy: 99.99%\n",
      "Test Loss: 0.0291, Test Accuracy: 99.61%\n",
      "Epoch [7/10], Loss: 0.0027, Accuracy: 99.92%\n",
      "Test Loss: 0.0249, Test Accuracy: 99.67%\n",
      "Epoch [8/10], Loss: 0.0033, Accuracy: 99.90%\n",
      "Test Loss: 0.0227, Test Accuracy: 99.50%\n",
      "Epoch [9/10], Loss: 0.0010, Accuracy: 99.97%\n",
      "Test Loss: 0.0126, Test Accuracy: 99.67%\n",
      "Epoch [10/10], Loss: 0.0004, Accuracy: 100.00%\n",
      "Test Loss: 0.0155, Test Accuracy: 99.67%\n"
     ]
    }
   ],
   "source": [
    "train_loader = preprocess(df_train, batch_size=256)\n",
    "valid_loader = preprocess(df_valid, batch_size=256)\n",
    "test_loader = preprocess(df_test, batch_size=256)\n",
    "\n",
    "model = nn.Sequential(\n",
    "    nn.Conv2d(1, 32, kernel_size=3),\n",
    "    nn.ReLU(),\n",
    "    nn.MaxPool2d(kernel_size=2),\n",
    "    nn.Conv2d(32, 32, kernel_size=3),\n",
    "    nn.ReLU(),\n",
    "    nn.MaxPool2d(kernel_size=2),\n",
    "    nn.Flatten(),\n",
    "    nn.Linear(32 * 5 * 5, 128),\n",
    "    nn.ReLU(),\n",
    "    nn.Linear(128, 3),\n",
    ")\n",
    "\n",
    "device = torch.device(\"cuda\" if torch.cuda.is_available() else \"cpu\")\n",
    "model.to(device)\n",
    "criterion = nn.CrossEntropyLoss()\n",
    "optimizer = torch.optim.Adam(model.parameters(), lr=0.001)\n",
    "num_epochs = 10\n",
    "model, train_loss, train_acc, test_loss, test_acc = trainNN(\n",
    "    model, train_loader, valid_loader, criterion, optimizer, num_epochs, device, log_train=True, log_test=True\n",
    ")"
   ]
  },
  {
   "cell_type": "code",
   "execution_count": null,
   "metadata": {},
   "outputs": [],
   "source": []
  }
 ],
 "metadata": {
  "kernelspec": {
   "display_name": "Python 3",
   "language": "python",
   "name": "python3"
  },
  "language_info": {
   "codemirror_mode": {
    "name": "ipython",
    "version": 3
   },
   "file_extension": ".py",
   "mimetype": "text/x-python",
   "name": "python",
   "nbconvert_exporter": "python",
   "pygments_lexer": "ipython3",
   "version": "3.10.16"
  }
 },
 "nbformat": 4,
 "nbformat_minor": 2
}
